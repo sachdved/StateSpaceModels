{
 "cells": [
  {
   "cell_type": "code",
   "execution_count": 1,
   "id": "baaff332-22f6-4ed0-a94f-9d19b068770b",
   "metadata": {},
   "outputs": [],
   "source": [
    "import torch\n",
    "import numpy as np\n",
    "import scipy as sp\n",
    "import matplotlib.pyplot as plt\n",
    "import math\n",
    "\n",
    "from collections.abc import Callable"
   ]
  },
  {
   "cell_type": "code",
   "execution_count": 2,
   "id": "2ed1d768-e46f-4911-9e30-9d6091aded87",
   "metadata": {},
   "outputs": [],
   "source": [
    "def random_SSM(N : int) -> (torch.Tensor, torch.Tensor, torch.Tensor, torch.Tensor):\n",
    "    A = torch.autograd.Variable(torch.rand(size=(N,N)), requires_grad = True)\n",
    "    B = torch.autograd.Variable(torch.rand(size=(N,1)), requires_grad = True)\n",
    "    C = torch.autograd.Variable(torch.rand(size=(1,N)), requires_grad = True)\n",
    "    D = torch.autograd.Variable(torch.rand(size=(1,1)), requires_grad = True)\n",
    "    return A, B, C, D"
   ]
  },
  {
   "cell_type": "code",
   "execution_count": 3,
   "id": "c913ebed-b17c-4993-a4c4-be749db92f9c",
   "metadata": {},
   "outputs": [],
   "source": [
    "A, B, C, D = random_SSM(10)\n"
   ]
  },
  {
   "cell_type": "code",
   "execution_count": 4,
   "id": "34e5a72b-292c-43a7-bda5-6edbf96b7ddd",
   "metadata": {},
   "outputs": [],
   "source": [
    "D = torch.zeros((1,1))"
   ]
  },
  {
   "cell_type": "code",
   "execution_count": 5,
   "id": "f60b605e-0171-4aec-acd1-793ea3007d72",
   "metadata": {},
   "outputs": [],
   "source": [
    "delta = torch.tensor(0.01)"
   ]
  },
  {
   "cell_type": "code",
   "execution_count": 6,
   "id": "53248f90-d07b-45a7-b111-d45f5b2f6f45",
   "metadata": {},
   "outputs": [],
   "source": [
    "def discretize(\n",
    "    A : torch.Tensor, B : torch.Tensor, C : torch.Tensor, D : torch.Tensor, delta : torch.Tensor\n",
    ") -> (torch.Tensor, torch.Tensor, torch.Tensor, torch.Tensor):\n",
    "    \"\"\"Discretizes SSM using bilinear model\n",
    "\n",
    "    parameters:\n",
    "        A: (NxN) transition matrix in latent\n",
    "        B: (Nx1) projection matrix to latent\n",
    "        C: (1xN) projection matrix from latent to output\n",
    "        D: (1x1) skip connection from input to output\n",
    "        delta: time step, ensure sufficient smallness\n",
    "    \"\"\"\n",
    "    Cbar = C\n",
    "    Dbar = D\n",
    "    N = A.shape[0]\n",
    "    Bl = torch.linalg.inv(torch.eye(N) - delta / 2 * A)\n",
    "    Abar = Bl@(torch.eye(N) + delta/2 * A)\n",
    "    Bbar = Bl@(delta*B)\n",
    "    return Abar, Bbar, Cbar, Dbar"
   ]
  },
  {
   "cell_type": "code",
   "execution_count": 7,
   "id": "3305b7a1-5b3e-4abc-8d77-f34f8a399075",
   "metadata": {},
   "outputs": [],
   "source": [
    "Abar, Bbar, Cbar, Dbar = discretize(A, B, C, D, delta)"
   ]
  },
  {
   "cell_type": "code",
   "execution_count": 8,
   "id": "d72635d9-919f-4482-a03c-c6a364503b9f",
   "metadata": {},
   "outputs": [],
   "source": [
    "T = 100\n",
    "num_steps = int(T/delta)\n",
    "\n",
    "u = torch.cos(torch.arange(num_steps))"
   ]
  },
  {
   "cell_type": "code",
   "execution_count": 9,
   "id": "c3134525-8e1e-40be-b02b-346dcbb7bb19",
   "metadata": {},
   "outputs": [],
   "source": [
    "def scan_SSM(\n",
    "    Ab : torch.Tensor, Bb : torch.Tensor, Cb : torch.Tensor, Db : torch.Tensor,  u : torch.Tensor, x0 : torch.Tensor\n",
    ") -> torch.Tensor:\n",
    "    \"\"\"\n",
    "    computes steps of the SSM going forward.\n",
    "\n",
    "    parameters:\n",
    "        Ab : (NxN) transition matrix in discrete space of latent to latent\n",
    "        Bb : (Nx1) projcetion matrix from input to latent space\n",
    "        Cb : (1xN) projection matrix from latent to output\n",
    "        Db : (1x1) skip connection input to output\n",
    "        u  : (L,)  trajectory we are trying to track\n",
    "        x0 : (Nx1) initial condition of latent\n",
    "    \"\"\"\n",
    "    x0 = torch.zeros((10,1))\n",
    "    x = torch.zeros((Ab.shape[0], len(u[:100])))\n",
    "    y = torch.zeros_like(u[:100])\n",
    "    for i in range(u[:100].shape[0]):\n",
    "        x[:,i] = (Ab@x0 + Bb*u[i]).squeeze()\n",
    "        y[i] = (Cb@x[:,i]).squeeze()\n",
    "        x0 = x[:,i].unsqueeze(-1)\n",
    "    return x, y"
   ]
  },
  {
   "cell_type": "code",
   "execution_count": 10,
   "id": "397018e5-477a-4464-875d-00e7156dcc0a",
   "metadata": {},
   "outputs": [],
   "source": [
    "def K_conv(Ab : torch.Tensor, Bb : torch.Tensor, Cb : torch.Tensor, L : int) -> torch.Tensor:\n",
    "    \"\"\"\n",
    "    computes convolution window given L time steps using equation K_t = Cb @ (Ab^t) @ Bb. \n",
    "    Needs to be flipped for correct causal convolution, but can be used as is in fft mode\n",
    "\n",
    "    parameters:\n",
    "        Ab : transition matrix\n",
    "        Bb : projection matrix from input to latent\n",
    "        Cb : projection matrix from latent to input\n",
    "        Db : skip connection\n",
    "        L  : length over which we want convolutional window\n",
    "    \"\"\"\n",
    "    return torch.stack([(Cb @ torch.matrix_power(Ab, l) @ Bb).squeeze() for l in range(L)])"
   ]
  },
  {
   "cell_type": "code",
   "execution_count": 11,
   "id": "e4daebfc-d2d8-41b9-8599-4ddd690b3485",
   "metadata": {},
   "outputs": [],
   "source": [
    "def causal_conv(u : torch.Tensor, K : torch.Tensor, notfft : bool = False) -> torch.Tensor:\n",
    "    \"\"\"\n",
    "    computes 1-d causal convolution either using standard method or fft transform.\n",
    "\n",
    "    parameters:\n",
    "        u : trajectory to convolve\n",
    "        K : convolutional filter\n",
    "        notfft: boolean, for whether or not we use fft mode or not.\n",
    "    \"\"\"\n",
    "    assert len(u.shape)==1\n",
    "    assert K.shape==u.shape\n",
    "    \n",
    "    L = u.shape[0]\n",
    "    powers_of_2 = 2**int(math.ceil(math.log2(2*L)))\n",
    "\n",
    "    if notfft:\n",
    "        padded_u = torch.nn.functional.pad(u, (L-1,L-1))\n",
    "        convolve = torch.zeros_like(u)\n",
    "        for i in range(L):\n",
    "            convolve[i] = torch.sum(padded_u[i:i+L]*K.flip(dims=[0]))\n",
    "        return convolve\n",
    "    else:\n",
    "\n",
    "        K_pad = torch.nn.functional.pad(K, (0, L))\n",
    "        u_pad = torch.nn.functional.pad(u, (0, L))\n",
    "        \n",
    "        K_f, u_f = torch.fft.rfft(K_pad, n = powers_of_2), torch.fft.rfft(u_pad, n = powers_of_2)\n",
    "        return torch.fft.irfft(K_f * u_f, n = powers_of_2)[:L]"
   ]
  },
  {
   "cell_type": "code",
   "execution_count": 12,
   "id": "f0d3efcc-e3f7-43ca-bda3-7601774fd727",
   "metadata": {},
   "outputs": [],
   "source": [
    "K = K_conv(Abar, Bbar, Cbar, 100)"
   ]
  },
  {
   "cell_type": "code",
   "execution_count": 13,
   "id": "6f74b795-1716-45f9-8c7e-3be76d1a88e2",
   "metadata": {},
   "outputs": [],
   "source": [
    "conv_fft = causal_conv(u[:100], K)\n",
    "conv_notfft = causal_conv(u[:100],K , notfft=True)"
   ]
  },
  {
   "cell_type": "code",
   "execution_count": 14,
   "id": "6f4895f0-52c5-444c-9837-f90d033de1ca",
   "metadata": {},
   "outputs": [],
   "source": [
    "x, y = scan_SSM(Abar, Bbar, Cbar, Dbar, u[:100], torch.zeros((10,1)))"
   ]
  },
  {
   "cell_type": "code",
   "execution_count": 15,
   "id": "baa14979-dfe1-41e2-b0ae-9834511822a9",
   "metadata": {},
   "outputs": [
    {
     "name": "stdout",
     "output_type": "stream",
     "text": [
      "tensor(True)\n",
      "tensor(True)\n"
     ]
    }
   ],
   "source": [
    "print((abs(conv_fft - conv_notfft)<1e-5).all())\n",
    "print((abs(conv_fft - y)<1e-5).all())"
   ]
  },
  {
   "cell_type": "code",
   "execution_count": 16,
   "id": "ad8c56ba-ea9b-4ed5-bb0a-82539bd529b0",
   "metadata": {},
   "outputs": [],
   "source": [
    "def log_step_initializer(dt_min = 0.001, dt_max = 0.1):\n",
    "    \"\"\"\n",
    "    initial guess for dt, from random number generator. to be learned.\n",
    "\n",
    "    parameters:\n",
    "        dt_min\n",
    "        dt_max\n",
    "    \"\"\"\n",
    "    return torch.autograd.Variable(torch.rand(1) * (torch.log(dt_max) - torch.log(dt_min)) + torch.log(dt_min), requires_grad = True)"
   ]
  },
  {
   "cell_type": "code",
   "execution_count": 17,
   "id": "47782377-fad9-4f35-a7c5-4c12a7ffbdf7",
   "metadata": {},
   "outputs": [],
   "source": [
    "class SSMLayer(torch.nn.Module):\n",
    "    \"\"\"\n",
    "    Simple layer that does SSMing. Assumes single input, single output. \n",
    "    Could be made multi-dimensional either by stacking and decorrelating,\n",
    "    or by playing with the code to allow for multi input, multioutput. Should be relatively easy, \n",
    "    but need to carefully think a little about convolution of multi dim inputs.\n",
    "    \"\"\"\n",
    "    def __init__(\n",
    "        self,\n",
    "        latent_dim,\n",
    "        L_max,\n",
    "        dt_min = 0.001,\n",
    "        dt_max = 0.1,\n",
    "    ):\n",
    "        super().__init__()\n",
    "        self.latent_dim = latent_dim\n",
    "        self.A, self.B, self.C, self.D = self.random_SSM(latent_dim)\n",
    "        self.Abar, self.Bbar, self.Cbar, self.Dbar = self.discretize(self.A, self.B, self.C, self.D, self.dt)\n",
    "        self.dt = self.log_step_initializer(dt_min, dt_max)\n",
    "\n",
    "    def random_SSM(\n",
    "        self, \n",
    "        N : int\n",
    "    ) -> (torch.Tensor, torch.Tensor, torch.Tensor, torch.Tensor):\n",
    "        \"\"\"\n",
    "        initializing SSM parameters given latent dim\n",
    "        \n",
    "        parameters:\n",
    "            N : size of latent dimension\n",
    "        \"\"\"\n",
    "        A = torch.autograd.Variable(torch.rand(size=(N,N)), requires_grad = True)\n",
    "        B = torch.autograd.Variable(torch.rand(size=(N,1)), requires_grad = True)\n",
    "        C = torch.autograd.Variable(torch.rand(size=(1,N)), requires_grad = True)\n",
    "        D = torch.autograd.Variable(torch.rand(size=(1,1)), requires_grad = True)\n",
    "        return A, B, C, D\n",
    "\n",
    "    def log_step_initializer(self, dt_min = 0.001, dt_max = 0.1):\n",
    "        \"\"\"\n",
    "        initial guess for dt, from random number generator. to be learned.\n",
    "    \n",
    "        parameters:\n",
    "            dt_min\n",
    "            dt_max\n",
    "        \"\"\"\n",
    "        return torch.autograd.Variable(torch.rand(1) * (torch.log(dt_max) - torch.log(dt_min)) + torch.log(dt_min), requires_grad = True)\n",
    "\n",
    "    def discretize(\n",
    "        self, A : torch.Tensor, B : torch.Tensor, C : torch.Tensor, D : torch.Tensor, delta : torch.Tensor\n",
    "    ) -> (torch.Tensor, torch.Tensor, torch.Tensor, torch.Tensor):\n",
    "        \"\"\"Discretizes SSM using bilinear model\n",
    "    \n",
    "        parameters:\n",
    "            A: (NxN) transition matrix in latent\n",
    "            B: (Nx1) projection matrix to latent\n",
    "            C: (1xN) projection matrix from latent to output\n",
    "            D: (1x1) skip connection from input to output\n",
    "            delta: time step, ensure sufficient smallness\n",
    "        \"\"\"\n",
    "        Cbar = C\n",
    "        Dbar = D\n",
    "        N = A.shape[0]\n",
    "        Bl = torch.linalg.inv(torch.eye(N) - delta / 2 * A)\n",
    "        Abar = Bl@(torch.eye(N) + delta/2 * A)\n",
    "        Bbar = Bl@(delta*B)\n",
    "        return Abar, Bbar, Cbar, Dbar\n",
    "\n",
    "    def scan_SSM(\n",
    "        self, Ab : torch.Tensor, Bb : torch.Tensor, Cb : torch.Tensor, Db : torch.Tensor,  u : torch.Tensor, x0 : torch.Tensor\n",
    "    ) -> torch.Tensor:\n",
    "        \"\"\"\n",
    "        computes steps of the SSM going forward.\n",
    "    \n",
    "        parameters:\n",
    "            Ab : (NxN) transition matrix in discrete space of latent to latent\n",
    "            Bb : (Nx1) projcetion matrix from input to latent space\n",
    "            Cb : (1xN) projection matrix from latent to output\n",
    "            Db : (1x1) skip connection input to output\n",
    "            u  : (L,)  trajectory we are trying to track\n",
    "            x0 : (Nx1) initial condition of latent\n",
    "        \"\"\"\n",
    "        x0 = torch.zeros((10,1))\n",
    "        x = torch.zeros((Ab.shape[0], len(u[:100])))\n",
    "        y = torch.zeros_like(u[:100])\n",
    "        for i in range(u[:100].shape[0]):\n",
    "            x[:,i] = (Ab@x0 + Bb*u[i]).squeeze()\n",
    "            y[i] = (Cb@x[:,i]).squeeze()\n",
    "            x0 = x[:,i].unsqueeze(-1)\n",
    "        return x, y\n",
    "        \n",
    "    def K_conv(self, Ab : torch.Tensor, Bb : torch.Tensor, Cb : torch.Tensor, L : int) -> torch.Tensor:\n",
    "        \"\"\"\n",
    "        computes convolution window given L time steps using equation K_t = Cb @ (Ab^t) @ Bb. \n",
    "        Needs to be flipped for correct causal convolution, but can be used as is in fft mode\n",
    "    \n",
    "        parameters:\n",
    "            Ab : transition matrix\n",
    "            Bb : projection matrix from input to latent\n",
    "            Cb : projection matrix from latent to input\n",
    "            Db : skip connection\n",
    "            L  : length over which we want convolutional window\n",
    "        \"\"\"\n",
    "        return torch.stack([(Cb @ torch.matrix_power(Ab, l) @ Bb).squeeze() for l in range(L)])\n",
    "\n",
    "    def causal_conv(u : torch.Tensor, K : torch.Tensor, notfft : bool = False) -> torch.Tensor:\n",
    "        \"\"\"\n",
    "        computes 1-d causal convolution either using standard method or fft transform.\n",
    "    \n",
    "        parameters:\n",
    "            u : trajectory to convolve\n",
    "            K : convolutional filter\n",
    "            notfft: boolean, for whether or not we use fft mode or not.\n",
    "        \"\"\"\n",
    "        assert K.shape==u.shape\n",
    "        \n",
    "        L = u.shape[0]\n",
    "        powers_of_2 = 2**int(math.ceil(math.log2(2*L)))\n",
    "    \n",
    "        if notfft:\n",
    "            padded_u = torch.nn.functional.pad(u, (L-1,L-1))\n",
    "            convolve = torch.zeros_like(u)\n",
    "            for i in range(L):\n",
    "                convolve[i] = torch.sum(padded_u[i:i+L]*K.flip(dims=[0]))\n",
    "            return convolve\n",
    "        else:\n",
    "    \n",
    "            K_pad = torch.nn.functional.pad(K, (0, L))\n",
    "            u_pad = torch.nn.functional.pad(u, (0, L))\n",
    "            \n",
    "            K_f, u_f = torch.fft.rfft(K_pad, n = powers_of_2), torch.fft.rfft(u_pad, n = powers_of_2)\n",
    "            return torch.fft.irfft(K_f * u_f, n = powers_of_2)[:L]\n",
    "\n",
    "    def forward(\n",
    "        self,\n",
    "        u : torch.Tensor,\n",
    "        x0 : torch.Tensor = torch.zeros((1,1)),\n",
    "        mode : bool | str = False\n",
    "    ) -> torch.Tensor:\n",
    "        \"\"\"\n",
    "        forward pass of model\n",
    "\n",
    "        Parameters:\n",
    "            u  : input time series\n",
    "            x0 : initial condition, only used in recurrent mode\n",
    "            mode: recurrent mode (\"recurrent\"), or convolution mode (True : direct convolution, False : fourier transform)\n",
    "        \"\"\"\n",
    "        if mode == \"recurrent\":\n",
    "            return self.scan_SSM(self.Abar, self.Bbar, self.Cbar, u, x0)[1]\n",
    "        else:\n",
    "            K = self.K_conv(self.Abar, self.Bbar, self.Cbar, u.shape[0])\n",
    "            return self.causal_conv(u, K, mode)"
   ]
  },
  {
   "cell_type": "code",
   "execution_count": 18,
   "id": "5306197b-fa32-44f1-a7b3-6a2c61c0675d",
   "metadata": {},
   "outputs": [],
   "source": [
    "def make_HiPPO(N : int) -> torch.Tensor:\n",
    "    \"\"\"\n",
    "    creates HiPPO matrix for legendre polynomials up to order N\n",
    "    parameters:\n",
    "        N: int\n",
    "    \"\"\"\n",
    "    P = torch.sqrt(1+2*torch.arange(N))\n",
    "    A = P.unsqueeze(1) * P.unsqueeze(0)\n",
    "    A = torch.tril(A) - torch.diag(torch.arange(N))\n",
    "    return A"
   ]
  },
  {
   "cell_type": "code",
   "execution_count": 19,
   "id": "71aa99a8-a247-4d94-b7c3-93ac93bbbf3f",
   "metadata": {},
   "outputs": [],
   "source": [
    "def K_gen_inverse(\n",
    "    Abar : torch.Tensor, Bbar : torch.Tensor, Cbar : torch.Tensor, L : int\n",
    ") -> torch.Tensor:\n",
    "    \"\"\"\n",
    "    creates generating function for convolutional window, to be evaluated at roots of unity\n",
    "    parameters:\n",
    "        Abar : discretized A matrix\n",
    "        Bbar : discretized B matrix\n",
    "        Cbar : discretized C matrix\n",
    "        L    : length of convolutional window\n",
    "    \"\"\"\n",
    "    Abar = Abar.to(torch.complex64)\n",
    "    Bbar = Bbar.to(torch.complex64)\n",
    "    Cbar = Cbar.to(torch.complex64)\n",
    "    \n",
    "    I = torch.eye(Abar.shape[0]).to(torch.complex64)\n",
    "    Al = torch.matrix_power(Abar, L)\n",
    "    Ctilde = Cbar @ (I - (Al))\n",
    "    return lambda z: (torch.conj(Ctilde)@(torch.linalg.inv(I-Abar * z))@Bbar).squeeze()"
   ]
  },
  {
   "cell_type": "code",
   "execution_count": 20,
   "id": "b6cb82c4-1cc6-4299-8cb0-0d899af52df7",
   "metadata": {},
   "outputs": [],
   "source": [
    "blah = K_gen_inverse(Abar, Bbar, Cbar, 10)"
   ]
  },
  {
   "cell_type": "code",
   "execution_count": 21,
   "id": "df1588d6-0b86-4156-bae5-29bea50245e9",
   "metadata": {},
   "outputs": [
    {
     "data": {
      "text/plain": [
       "tensor(0.0017+0.j, grad_fn=<SqueezeBackward0>)"
      ]
     },
     "execution_count": 21,
     "metadata": {},
     "output_type": "execute_result"
    }
   ],
   "source": [
    "blah(10)"
   ]
  },
  {
   "cell_type": "code",
   "execution_count": 22,
   "id": "ddce6900-8991-4cf9-ac63-9b2159051b0e",
   "metadata": {},
   "outputs": [],
   "source": [
    "def conv_from_gen(gen : Callable, L : int):\n",
    "    \"\"\"\n",
    "    returns convolution from generating function by evaluating at roots of unity\n",
    "\n",
    "    parameters:\n",
    "        gen : generating function\n",
    "        L   : int\n",
    "    \"\"\"\n",
    "    omega_L = torch.exp(-2j * torch.pi * torch.arange(L)/L)\n",
    "    atRoots = torch.tensor([gen(omega) for omega in omega_L])\n",
    "    \n",
    "    return torch.fft.irfft(atRoots, L).squeeze()\n",
    "    "
   ]
  },
  {
   "cell_type": "code",
   "execution_count": 23,
   "id": "f0ac07d4-17d1-442f-a5c4-3e2cb343dfde",
   "metadata": {},
   "outputs": [],
   "source": [
    "blah = K_gen_inverse(Abar, Bbar, Cbar, 100)"
   ]
  },
  {
   "cell_type": "code",
   "execution_count": 24,
   "id": "4218dd6f-6ae6-471b-a78b-49a56bdce711",
   "metadata": {},
   "outputs": [],
   "source": [
    "omega_L = torch.exp(-2j * torch.pi * torch.arange(100)/100)\n",
    "atRoots = torch.tensor([blah(omega) for omega in omega_L])"
   ]
  },
  {
   "cell_type": "code",
   "execution_count": 33,
   "id": "9f46f670-65b2-45e2-9950-75d2b31f80e5",
   "metadata": {},
   "outputs": [
    {
     "data": {
      "text/plain": [
       "tensor([ 7.1253e+01+0.0000e+00j,  2.6539e+01+3.5403e+01j,\n",
       "         8.2175e+00+2.5012e+01j,  3.0171e+00+1.8032e+01j,\n",
       "         9.8631e-01+1.3897e+01j,  4.5121e-03+1.1241e+01j,\n",
       "        -5.4048e-01+9.4047e+00j, -8.7315e-01+8.0635e+00j,\n",
       "        -1.0907e+00+7.0413e+00j, -1.2406e+00+6.2358e+00j,\n",
       "        -1.3482e+00+5.5841e+00j, -1.4280e+00+5.0452e+00j,\n",
       "        -1.4888e+00+4.5915e+00j, -1.5361e+00+4.2037e+00j,\n",
       "        -1.5737e+00+3.8678e+00j, -1.6041e+00+3.5735e+00j,\n",
       "        -1.6289e+00+3.3132e+00j, -1.6494e+00+3.0808e+00j,\n",
       "        -1.6667e+00+2.8716e+00j, -1.6812e+00+2.6821e+00j,\n",
       "        -1.6936e+00+2.5092e+00j, -1.7043e+00+2.3506e+00j,\n",
       "        -1.7135e+00+2.2043e+00j, -1.7215e+00+2.0687e+00j,\n",
       "        -1.7284e+00+1.9423e+00j, -1.7346e+00+1.8241e+00j,\n",
       "        -1.7400e+00+1.7131e+00j, -1.7448e+00+1.6084e+00j,\n",
       "        -1.7491e+00+1.5093e+00j, -1.7529e+00+1.4153e+00j,\n",
       "        -1.7562e+00+1.3257e+00j, -1.7593e+00+1.2401e+00j,\n",
       "        -1.7620e+00+1.1580e+00j, -1.7644e+00+1.0792e+00j,\n",
       "        -1.7666e+00+1.0032e+00j, -1.7686e+00+9.2986e-01j,\n",
       "        -1.7703e+00+8.5878e-01j, -1.7719e+00+7.8976e-01j,\n",
       "        -1.7733e+00+7.2260e-01j, -1.7745e+00+6.5708e-01j,\n",
       "        -1.7756e+00+5.9302e-01j, -1.7766e+00+5.3026e-01j,\n",
       "        -1.7774e+00+4.6863e-01j, -1.7782e+00+4.0798e-01j,\n",
       "        -1.7788e+00+3.4818e-01j, -1.7793e+00+2.8909e-01j,\n",
       "        -1.7797e+00+2.3058e-01j, -1.7801e+00+1.7254e-01j,\n",
       "        -1.7803e+00+1.1483e-01j, -1.7804e+00+5.7361e-02j,\n",
       "        -1.7805e+00-7.9784e-08j, -1.7804e+00-5.7361e-02j,\n",
       "        -1.7803e+00-1.1483e-01j, -1.7801e+00-1.7254e-01j,\n",
       "        -1.7797e+00-2.3058e-01j, -1.7793e+00-2.8909e-01j,\n",
       "        -1.7788e+00-3.4818e-01j, -1.7782e+00-4.0798e-01j,\n",
       "        -1.7774e+00-4.6863e-01j, -1.7766e+00-5.3026e-01j,\n",
       "        -1.7756e+00-5.9302e-01j, -1.7745e+00-6.5708e-01j,\n",
       "        -1.7733e+00-7.2260e-01j, -1.7719e+00-7.8976e-01j,\n",
       "        -1.7703e+00-8.5878e-01j, -1.7686e+00-9.2986e-01j,\n",
       "        -1.7666e+00-1.0032e+00j, -1.7644e+00-1.0792e+00j,\n",
       "        -1.7620e+00-1.1580e+00j, -1.7593e+00-1.2401e+00j,\n",
       "        -1.7562e+00-1.3257e+00j, -1.7529e+00-1.4153e+00j,\n",
       "        -1.7491e+00-1.5093e+00j, -1.7448e+00-1.6084e+00j,\n",
       "        -1.7400e+00-1.7131e+00j, -1.7346e+00-1.8241e+00j,\n",
       "        -1.7284e+00-1.9423e+00j, -1.7215e+00-2.0687e+00j,\n",
       "        -1.7135e+00-2.2043e+00j, -1.7043e+00-2.3506e+00j,\n",
       "        -1.6936e+00-2.5092e+00j, -1.6812e+00-2.6821e+00j,\n",
       "        -1.6667e+00-2.8716e+00j, -1.6494e+00-3.0808e+00j,\n",
       "        -1.6289e+00-3.3132e+00j, -1.6041e+00-3.5735e+00j,\n",
       "        -1.5737e+00-3.8678e+00j, -1.5361e+00-4.2037e+00j,\n",
       "        -1.4888e+00-4.5915e+00j, -1.4280e+00-5.0452e+00j,\n",
       "        -1.3482e+00-5.5841e+00j, -1.2406e+00-6.2358e+00j,\n",
       "        -1.0907e+00-7.0413e+00j, -8.7315e-01-8.0635e+00j,\n",
       "        -5.4047e-01-9.4047e+00j,  4.5165e-03-1.1241e+01j,\n",
       "         9.8631e-01-1.3897e+01j,  3.0171e+00-1.8032e+01j,\n",
       "         8.2175e+00-2.5012e+01j,  2.6539e+01-3.5403e+01j,\n",
       "         0.0000e+00+0.0000e+00j,  0.0000e+00+0.0000e+00j,\n",
       "         0.0000e+00+0.0000e+00j,  0.0000e+00+0.0000e+00j,\n",
       "         0.0000e+00+0.0000e+00j,  0.0000e+00+0.0000e+00j,\n",
       "         0.0000e+00+0.0000e+00j,  0.0000e+00+0.0000e+00j,\n",
       "         0.0000e+00+0.0000e+00j,  0.0000e+00+0.0000e+00j,\n",
       "         0.0000e+00+0.0000e+00j,  0.0000e+00+0.0000e+00j,\n",
       "         0.0000e+00+0.0000e+00j,  0.0000e+00+0.0000e+00j,\n",
       "         0.0000e+00+0.0000e+00j,  0.0000e+00+0.0000e+00j,\n",
       "         0.0000e+00+0.0000e+00j,  0.0000e+00+0.0000e+00j,\n",
       "         0.0000e+00+0.0000e+00j,  0.0000e+00+0.0000e+00j,\n",
       "         0.0000e+00+0.0000e+00j,  0.0000e+00+0.0000e+00j,\n",
       "         0.0000e+00+0.0000e+00j,  0.0000e+00+0.0000e+00j,\n",
       "         0.0000e+00+0.0000e+00j,  0.0000e+00+0.0000e+00j,\n",
       "         0.0000e+00+0.0000e+00j,  0.0000e+00+0.0000e+00j,\n",
       "         0.0000e+00+0.0000e+00j,  0.0000e+00+0.0000e+00j,\n",
       "         0.0000e+00+0.0000e+00j,  0.0000e+00+0.0000e+00j,\n",
       "         0.0000e+00+0.0000e+00j,  0.0000e+00+0.0000e+00j,\n",
       "         0.0000e+00+0.0000e+00j,  0.0000e+00+0.0000e+00j,\n",
       "         0.0000e+00+0.0000e+00j,  0.0000e+00+0.0000e+00j,\n",
       "         0.0000e+00+0.0000e+00j,  0.0000e+00+0.0000e+00j,\n",
       "         0.0000e+00+0.0000e+00j,  0.0000e+00+0.0000e+00j,\n",
       "         0.0000e+00+0.0000e+00j,  0.0000e+00+0.0000e+00j,\n",
       "         0.0000e+00+0.0000e+00j,  0.0000e+00+0.0000e+00j,\n",
       "         0.0000e+00+0.0000e+00j,  0.0000e+00+0.0000e+00j,\n",
       "         0.0000e+00+0.0000e+00j,  0.0000e+00+0.0000e+00j,\n",
       "         0.0000e+00+0.0000e+00j,  0.0000e+00+0.0000e+00j,\n",
       "         0.0000e+00+0.0000e+00j,  0.0000e+00+0.0000e+00j,\n",
       "         0.0000e+00+0.0000e+00j,  0.0000e+00+0.0000e+00j,\n",
       "         0.0000e+00+0.0000e+00j,  0.0000e+00+0.0000e+00j,\n",
       "         0.0000e+00+0.0000e+00j,  0.0000e+00+0.0000e+00j,\n",
       "         0.0000e+00+0.0000e+00j,  0.0000e+00+0.0000e+00j,\n",
       "         0.0000e+00+0.0000e+00j,  0.0000e+00+0.0000e+00j,\n",
       "         0.0000e+00+0.0000e+00j,  0.0000e+00+0.0000e+00j,\n",
       "         0.0000e+00+0.0000e+00j,  0.0000e+00+0.0000e+00j,\n",
       "         0.0000e+00+0.0000e+00j,  0.0000e+00+0.0000e+00j,\n",
       "         0.0000e+00+0.0000e+00j,  0.0000e+00+0.0000e+00j,\n",
       "         0.0000e+00+0.0000e+00j,  0.0000e+00+0.0000e+00j,\n",
       "         0.0000e+00+0.0000e+00j,  0.0000e+00+0.0000e+00j,\n",
       "         0.0000e+00+0.0000e+00j,  0.0000e+00+0.0000e+00j,\n",
       "         0.0000e+00+0.0000e+00j,  0.0000e+00+0.0000e+00j,\n",
       "         0.0000e+00+0.0000e+00j,  0.0000e+00+0.0000e+00j,\n",
       "         0.0000e+00+0.0000e+00j,  0.0000e+00+0.0000e+00j,\n",
       "         0.0000e+00+0.0000e+00j,  0.0000e+00+0.0000e+00j,\n",
       "         0.0000e+00+0.0000e+00j,  0.0000e+00+0.0000e+00j,\n",
       "         0.0000e+00+0.0000e+00j,  0.0000e+00+0.0000e+00j,\n",
       "         0.0000e+00+0.0000e+00j,  0.0000e+00+0.0000e+00j,\n",
       "         0.0000e+00+0.0000e+00j,  0.0000e+00+0.0000e+00j,\n",
       "         0.0000e+00+0.0000e+00j,  0.0000e+00+0.0000e+00j,\n",
       "         0.0000e+00+0.0000e+00j,  0.0000e+00+0.0000e+00j,\n",
       "         0.0000e+00+0.0000e+00j,  0.0000e+00+0.0000e+00j])"
      ]
     },
     "execution_count": 33,
     "metadata": {},
     "output_type": "execute_result"
    }
   ],
   "source": [
    "torch.nn.functional.pad(atRoots, (0, 100))"
   ]
  },
  {
   "cell_type": "code",
   "execution_count": 32,
   "id": "bca71060-3400-4540-bd09-680944f2568c",
   "metadata": {},
   "outputs": [
    {
     "data": {
      "text/plain": [
       "tensor([-2.5623e-01,  9.1583e-01, -9.9178e-01,  6.5709e-01, -4.8194e-02,\n",
       "        -4.5761e-01,  7.3345e-01, -6.0483e-01,  2.5537e-01,  2.2062e-01,\n",
       "        -5.1081e-01,  5.8729e-01, -3.4254e-01,  3.4511e-03,  3.6152e-01,\n",
       "        -4.8829e-01,  4.3044e-01, -1.2678e-01, -1.6821e-01,  4.2146e-01,\n",
       "        -4.1366e-01,  2.6782e-01,  5.0490e-02, -2.7539e-01,  4.1934e-01,\n",
       "        -3.0423e-01,  1.1097e-01,  1.8665e-01, -3.2500e-01,  3.6912e-01,\n",
       "        -1.7598e-01, -2.8123e-02,  2.7833e-01, -3.2349e-01,  2.8448e-01,\n",
       "        -4.3992e-02, -1.3917e-01,  3.2440e-01, -2.7917e-01,  1.7949e-01,\n",
       "         7.8086e-02, -2.1482e-01,  3.2692e-01, -2.0241e-01,  6.8204e-02,\n",
       "         1.7885e-01, -2.5126e-01,  2.9134e-01, -1.0525e-01, -3.6176e-02,\n",
       "         2.4994e-01, -2.4855e-01,  2.2605e-01, -4.0394e-04, -1.2231e-01,\n",
       "         2.8658e-01, -2.1048e-01,  1.4161e-01,  9.9724e-02, -1.8157e-01,\n",
       "         2.8787e-01, -1.4408e-01,  4.9786e-02,  1.8419e-01, -2.0870e-01,\n",
       "         2.5667e-01, -5.8845e-02, -3.7649e-02,  2.4444e-01, -2.0218e-01,\n",
       "         1.9921e-01,  3.4306e-02, -1.1002e-01,  2.7511e-01, -1.6422e-01,\n",
       "         1.2434e-01,  1.2415e-01, -1.5882e-01,  2.7438e-01, -1.0042e-01,\n",
       "         4.2509e-02,  2.0037e-01, -1.7849e-01,  2.4418e-01, -1.9053e-02,\n",
       "        -3.5335e-02,  2.5458e-01, -1.6696e-01,  1.8979e-01,  6.9836e-02,\n",
       "        -9.8954e-02,  2.8127e-01, -1.2581e-01,  1.1932e-01,  1.5560e-01,\n",
       "        -1.3993e-01,  2.7833e-01, -6.0024e-02,  4.2701e-02,  2.2818e-01,\n",
       "        -1.5257e-01,  2.4730e-01,  2.2545e-02, -2.9385e-02,  2.7924e-01,\n",
       "        -1.3459e-01,  1.9319e-01,  1.1212e-01, -8.6735e-02,  3.0315e-01,\n",
       "        -8.7328e-02,  1.2396e-01,  1.9809e-01, -1.2081e-01,  2.9769e-01,\n",
       "        -1.5692e-02,  4.9618e-02,  2.7029e-01, -1.2575e-01,  2.6438e-01,\n",
       "         7.2403e-02, -1.8910e-02,  3.2018e-01, -9.9139e-02,  2.0837e-01,\n",
       "         1.6690e-01, -7.1052e-02,  3.4196e-01, -4.2384e-02,  1.3800e-01,\n",
       "         2.5676e-01, -9.7876e-02,  3.3338e-01,  3.9333e-02,  6.3879e-02,\n",
       "         3.3127e-01, -9.3239e-02,  2.9620e-01,  1.3753e-01, -2.3068e-03,\n",
       "         3.8143e-01, -5.4667e-02,  2.3614e-01,  2.4134e-01, -4.9162e-02,\n",
       "         4.0117e-01,  1.6143e-02,  1.6244e-01,  3.3874e-01, -6.7034e-02,\n",
       "         3.8829e-01,  1.1330e-01,  8.6930e-02,  4.1804e-01, -4.9336e-02,\n",
       "         3.4508e-01,  2.2719e-01,  2.2687e-02,  4.6941e-01,  6.3931e-03,\n",
       "         2.7833e-01,  3.4546e-01, -1.7500e-02,  4.8635e-01,  9.7851e-02,\n",
       "         1.9890e-01,  4.5442e-01, -2.2830e-02,  4.6687e-01,  2.1787e-01,\n",
       "         1.2064e-01,  5.4076e-01,  1.3920e-02,  4.1421e-01,  3.5490e-01,\n",
       "         5.8929e-02,  5.9336e-01,  9.5086e-02,  3.3697e-01,  4.9415e-01,\n",
       "         2.8750e-02,  6.0513e-01,  2.1727e-01,  2.4867e-01,  6.1920e-01,\n",
       "         4.2680e-02,  5.7446e-01,  3.7112e-01,  1.6650e-01,  7.1414e-01,\n",
       "         1.0886e-01,  5.0625e-01,  5.4188e-01,  1.0951e-01,  7.6584e-01,\n",
       "         2.2929e-01,  4.1219e-01,  7.1067e-01,  9.6268e-02,  7.6630e-01,\n",
       "         3.9860e-01,  3.1023e-01,  8.5655e-01,  1.4220e-01,  7.1467e-01,\n",
       "         6.0371e-01,  2.2319e-01,  9.5919e-01,  2.5692e-01,  6.1871e-01,\n",
       "         8.2422e-01,  1.7646e-01,  1.0019e+00,  4.4177e-01,  4.9546e-01,\n",
       "         1.0340e+00,  1.9498e-01,  9.7505e-01,  6.8797e-01,  3.7087e-01,\n",
       "         1.2037e+00,  2.9965e-01,  8.7863e-01,  9.7557e-01,  2.7833e-01,\n",
       "         1.3041e+00,  5.0361e-01,  7.2520e-01,  1.2735e+00,  2.5620e-01,\n",
       "         1.3101e+00,  8.0850e-01,  5.4140e-01,  1.5402e+00,  3.4463e-01,\n",
       "         1.2047e+00,  1.2013e+00,  3.6920e-01,  1.7255e+00,  5.8270e-01,\n",
       "         9.8242e-01,  1.6518e+00,  2.6747e-01,  1.7688e+00,  1.0091e+00,\n",
       "         6.4911e-01,  2.1099e+00,  3.1995e-01,  1.5844e+00,  1.6830e+00,\n",
       "         2.0497e-01,  2.4989e+00,  6.9783e-01,  9.0002e-01,  2.9921e+00,\n",
       "        -8.4829e-01])"
      ]
     },
     "execution_count": 32,
     "metadata": {},
     "output_type": "execute_result"
    }
   ],
   "source": [
    "torch.fft.irfft(torch.nn.functional.pad(atRoots, (0, 100)), 256)"
   ]
  },
  {
   "cell_type": "code",
   "execution_count": 31,
   "id": "7244f0a4-ddf7-4a3f-81e9-cbbf7736ad52",
   "metadata": {},
   "outputs": [
    {
     "data": {
      "text/plain": [
       "<matplotlib.collections.PathCollection at 0x148852b50>"
      ]
     },
     "execution_count": 31,
     "metadata": {},
     "output_type": "execute_result"
    },
    {
     "data": {
      "image/png": "[encoded data removed]",
      "text/plain": [
       "<Figure size 640x480 with 1 Axes>"
      ]
     },
     "metadata": {},
     "output_type": "display_data"
    }
   ],
   "source": [
    "plt.scatter(torch.fft.irfft(atRoots, 100).detach().numpy(), conv_fft.detach().numpy())"
   ]
  },
  {
   "cell_type": "code",
   "execution_count": 26,
   "id": "568f5ba0-2ca8-46e9-ab3f-6a01a98a3247",
   "metadata": {},
   "outputs": [
    {
     "data": {
      "text/plain": [
       "tensor([ 2.8294e-02,  4.4835e-02,  3.5057e-02,  8.6226e-03, -9.4564e-03,\n",
       "        -1.8150e-03,  2.5304e-02,  4.7789e-02,  4.5832e-02,  2.2140e-02,\n",
       "        -5.5075e-04, -3.7324e-04,  2.3563e-02,  5.0360e-02,  5.6547e-02,\n",
       "         3.7661e-02,  1.2354e-02,  5.2476e-03,  2.4299e-02,  5.3490e-02,\n",
       "         6.7555e-02,  5.5218e-02,  2.9560e-02,  1.6001e-02,  2.8928e-02,\n",
       "         5.8478e-02,  7.9609e-02,  7.5127e-02,  5.1501e-02,  3.2925e-02,\n",
       "         3.9073e-02,  6.7024e-02,  9.3951e-02,  9.8116e-02,  7.8865e-02,\n",
       "         5.7234e-02,  5.6620e-02,  8.1277e-02,  1.1242e-01,  1.2549e-01,\n",
       "         1.1276e-01,  9.0452e-02,  8.3810e-02,  1.0393e-01,  1.3756e-01,\n",
       "         1.5929e-01,  1.5495e-01,  1.3462e-01,  1.2340e-01,  1.3836e-01,\n",
       "         1.7282e-01,  2.0256e-01,  2.0808e-01,  1.9253e-01,  1.7890e-01,\n",
       "         1.8882e-01,  2.2276e-01,  2.5959e-01,  2.7606e-01,  2.6816e-01,\n",
       "         2.5488e-01,  2.6075e-01,  2.9334e-01,  3.3631e-01,  3.6449e-01,\n",
       "         3.6704e-01,  3.5746e-01,  3.6124e-01,  3.9241e-01,  4.4076e-01,\n",
       "         4.8121e-01,  4.9696e-01,  4.9496e-01,  4.9959e-01,  5.3030e-01,\n",
       "         5.8378e-01,  6.3707e-01,  6.6875e-01,  6.7867e-01,  6.8820e-01,\n",
       "         7.2063e-01,  7.7987e-01,  8.4689e-01,  8.9737e-01,  9.2410e-01,\n",
       "         9.4373e-01,  9.8159e-01,  1.0484e+00,  1.1308e+00,  1.2034e+00,\n",
       "         1.2524e+00,  1.2887e+00,  1.3374e+00,  1.4155e+00,  1.5160e+00,\n",
       "         1.6147e+00,  1.6927e+00,  1.7535e+00,  1.8208e+00,  1.9159e+00],\n",
       "       grad_fn=<SliceBackward0>)"
      ]
     },
     "execution_count": 26,
     "metadata": {},
     "output_type": "execute_result"
    }
   ],
   "source": [
    "conv_fft"
   ]
  },
  {
   "cell_type": "code",
   "execution_count": 324,
   "id": "99f0fe25-618c-4167-8279-a5d44077569b",
   "metadata": {},
   "outputs": [
    {
     "data": {
      "text/plain": [
       "tensor([ 3.2026e-02,  5.0787e-02,  3.9775e-02,  9.8950e-03, -1.0565e-02,\n",
       "        -1.9347e-03,  2.8752e-02,  5.4228e-02,  5.2064e-02,  2.5292e-02,\n",
       "        -3.7879e-04, -1.9867e-04,  2.6873e-02,  5.7214e-02,  6.4257e-02,\n",
       "         4.2923e-02,  1.4291e-02,  6.2235e-03,  2.7752e-02,  6.0778e-02,\n",
       "         7.6717e-02,  6.2783e-02,  3.3747e-02,  1.8364e-02,  3.2938e-02,\n",
       "         6.6338e-02,  9.0239e-02,  8.5166e-02,  5.8408e-02,  3.7322e-02,\n",
       "         4.4187e-02,  7.5728e-02,  1.0613e-01,  1.1080e-01,  8.8944e-02,\n",
       "         6.4354e-02,  6.3508e-02,  9.1248e-02,  1.2634e-01,  1.4100e-01,\n",
       "         1.2645e-01,  1.0101e-01,  9.3246e-02,  1.1574e-01,  1.5352e-01,\n",
       "         1.7785e-01,  1.7265e-01,  1.4932e-01,  1.3624e-01,  1.5272e-01,\n",
       "         1.9126e-01,  2.2445e-01,  2.3020e-01,  2.1207e-01,  1.9601e-01,\n",
       "         2.0654e-01,  2.4420e-01,  2.8512e-01,  3.0295e-01,  2.9313e-01,\n",
       "         2.7713e-01,  2.8270e-01,  3.1842e-01,  3.6582e-01,  3.9643e-01,\n",
       "         3.9794e-01,  3.8560e-01,  3.8822e-01,  4.2172e-01,  4.7455e-01,\n",
       "         5.1834e-01,  5.3404e-01,  5.2948e-01,  5.3223e-01,  5.6429e-01,\n",
       "         6.2195e-01,  6.7923e-01,  7.1186e-01,  7.1964e-01,  7.2669e-01,\n",
       "         7.5939e-01,  8.2213e-01,  8.9343e-01,  9.4573e-01,  9.7082e-01,\n",
       "         9.8752e-01,  1.0244e+00,  1.0937e+00,  1.1802e+00,  1.2551e+00,\n",
       "         1.3031e+00,  1.3359e+00,  1.3824e+00,  1.4614e+00,  1.5652e+00,\n",
       "         1.6664e+00,  1.7434e+00,  1.8004e+00,  1.8637e+00,  1.9578e+00],\n",
       "       grad_fn=<CopySlices>)"
      ]
     },
     "execution_count": 324,
     "metadata": {},
     "output_type": "execute_result"
    }
   ],
   "source": [
    "conv_notfft"
   ]
  },
  {
   "cell_type": "code",
   "execution_count": 323,
   "id": "11e402e7-33bf-49d4-9ef3-ab78996fa728",
   "metadata": {},
   "outputs": [
    {
     "data": {
      "text/plain": [
       "tensor([ 3.2026e-02,  5.0786e-02,  3.9775e-02,  9.8948e-03, -1.0565e-02,\n",
       "        -1.9345e-03,  2.8752e-02,  5.4227e-02,  5.2064e-02,  2.5292e-02,\n",
       "        -3.7849e-04, -1.9813e-04,  2.6874e-02,  5.7214e-02,  6.4257e-02,\n",
       "         4.2923e-02,  1.4292e-02,  6.2244e-03,  2.7753e-02,  6.0778e-02,\n",
       "         7.6717e-02,  6.2783e-02,  3.3747e-02,  1.8364e-02,  3.2938e-02,\n",
       "         6.6338e-02,  9.0239e-02,  8.5166e-02,  5.8408e-02,  3.7322e-02,\n",
       "         4.4187e-02,  7.5728e-02,  1.0613e-01,  1.1080e-01,  8.8944e-02,\n",
       "         6.4354e-02,  6.3508e-02,  9.1249e-02,  1.2634e-01,  1.4100e-01,\n",
       "         1.2645e-01,  1.0101e-01,  9.3246e-02,  1.1574e-01,  1.5352e-01,\n",
       "         1.7785e-01,  1.7265e-01,  1.4932e-01,  1.3624e-01,  1.5272e-01,\n",
       "         1.9126e-01,  2.2445e-01,  2.3020e-01,  2.1207e-01,  1.9601e-01,\n",
       "         2.0654e-01,  2.4420e-01,  2.8512e-01,  3.0295e-01,  2.9313e-01,\n",
       "         2.7713e-01,  2.8270e-01,  3.1842e-01,  3.6582e-01,  3.9643e-01,\n",
       "         3.9794e-01,  3.8560e-01,  3.8822e-01,  4.2172e-01,  4.7455e-01,\n",
       "         5.1834e-01,  5.3404e-01,  5.2948e-01,  5.3223e-01,  5.6429e-01,\n",
       "         6.2195e-01,  6.7923e-01,  7.1186e-01,  7.1964e-01,  7.2669e-01,\n",
       "         7.5939e-01,  8.2213e-01,  8.9343e-01,  9.4573e-01,  9.7082e-01,\n",
       "         9.8752e-01,  1.0244e+00,  1.0937e+00,  1.1802e+00,  1.2551e+00,\n",
       "         1.3031e+00,  1.3359e+00,  1.3824e+00,  1.4614e+00,  1.5652e+00,\n",
       "         1.6664e+00,  1.7434e+00,  1.8004e+00,  1.8637e+00,  1.9578e+00],\n",
       "       grad_fn=<SliceBackward0>)"
      ]
     },
     "execution_count": 323,
     "metadata": {},
     "output_type": "execute_result"
    }
   ],
   "source": [
    "conv_fft"
   ]
  },
  {
   "cell_type": "code",
   "execution_count": 280,
   "id": "8b000878-1875-48ee-92e9-6f025776ac51",
   "metadata": {},
   "outputs": [],
   "source": [
    "A = make_HiPPO(10)"
   ]
  },
  {
   "cell_type": "code",
   "execution_count": 283,
   "id": "86b26dc6-cb55-4d8a-8909-58d9f9873d53",
   "metadata": {},
   "outputs": [
    {
     "data": {
      "text/plain": [
       "tensor(-9.5394)"
      ]
     },
     "execution_count": 283,
     "metadata": {},
     "output_type": "execute_result"
    }
   ],
   "source": [
    "A[6,3]"
   ]
  },
  {
   "cell_type": "code",
   "execution_count": 284,
   "id": "314bfe8d-335b-47c5-a89a-a04a4923a4ed",
   "metadata": {},
   "outputs": [
    {
     "data": {
      "text/plain": [
       "tensor([[ -1.0000,  -0.0000,  -0.0000,  -0.0000,  -0.0000,  -0.0000,  -0.0000,\n",
       "          -0.0000,  -0.0000,  -0.0000],\n",
       "        [ -1.7321,  -2.0000,  -0.0000,  -0.0000,  -0.0000,  -0.0000,  -0.0000,\n",
       "          -0.0000,  -0.0000,  -0.0000],\n",
       "        [ -2.2361,  -3.8730,  -3.0000,  -0.0000,  -0.0000,  -0.0000,  -0.0000,\n",
       "          -0.0000,  -0.0000,  -0.0000],\n",
       "        [ -2.6458,  -4.5826,  -5.9161,  -4.0000,  -0.0000,  -0.0000,  -0.0000,\n",
       "          -0.0000,  -0.0000,  -0.0000],\n",
       "        [ -3.0000,  -5.1962,  -6.7082,  -7.9373,  -5.0000,  -0.0000,  -0.0000,\n",
       "          -0.0000,  -0.0000,  -0.0000],\n",
       "        [ -3.3166,  -5.7446,  -7.4162,  -8.7750,  -9.9499,  -6.0000,  -0.0000,\n",
       "          -0.0000,  -0.0000,  -0.0000],\n",
       "        [ -3.6056,  -6.2450,  -8.0623,  -9.5394, -10.8167, -11.9583,  -7.0000,\n",
       "          -0.0000,  -0.0000,  -0.0000],\n",
       "        [ -3.8730,  -6.7082,  -8.6603, -10.2470, -11.6189, -12.8452, -13.9642,\n",
       "          -8.0000,  -0.0000,  -0.0000],\n",
       "        [ -4.1231,  -7.1414,  -9.2195, -10.9087, -12.3693, -13.6748, -14.8661,\n",
       "         -15.9687,  -9.0000,  -0.0000],\n",
       "        [ -4.3589,  -7.5498,  -9.7468, -11.5326, -13.0767, -14.4568, -15.7162,\n",
       "         -16.8819, -17.9722, -10.0000]])"
      ]
     },
     "execution_count": 284,
     "metadata": {},
     "output_type": "execute_result"
    }
   ],
   "source": [
    "A"
   ]
  },
  {
   "cell_type": "code",
   "execution_count": 275,
   "id": "238adc62-1757-43ac-a934-1e80d67fc950",
   "metadata": {},
   "outputs": [],
   "source": [
    "P = torch.sqrt(1+2*torch.arange(10))"
   ]
  },
  {
   "cell_type": "code",
   "execution_count": 294,
   "id": "54b9e610-33b6-40e2-ab9e-9d8335cf02eb",
   "metadata": {},
   "outputs": [],
   "source": [
    "test = torch.tril(P.unsqueeze(1) * P.unsqueeze(0)) - torch.diag(torch.arange(10))"
   ]
  },
  {
   "cell_type": "code",
   "execution_count": 295,
   "id": "a8a73ef9-c370-48a8-b170-0fd44bbd0303",
   "metadata": {},
   "outputs": [
    {
     "data": {
      "text/plain": [
       "tensor(17.9722)"
      ]
     },
     "execution_count": 295,
     "metadata": {},
     "output_type": "execute_result"
    }
   ],
   "source": [
    "test[9,8]"
   ]
  },
  {
   "cell_type": "code",
   "execution_count": 292,
   "id": "4efadc38-8252-43f0-844b-2be6f00f9d9e",
   "metadata": {},
   "outputs": [
    {
     "data": {
      "text/plain": [
       "17.972200755611432"
      ]
     },
     "execution_count": 292,
     "metadata": {},
     "output_type": "execute_result"
    }
   ],
   "source": [
    "(2*9+1)**(1/2) * (2*8+1)**(1/2)"
   ]
  },
  {
   "cell_type": "code",
   "execution_count": 293,
   "id": "435f361c-bebd-433b-a94d-7fe5122694ba",
   "metadata": {},
   "outputs": [
    {
     "data": {
      "text/plain": [
       "tensor([[ 1.0000,  0.0000,  0.0000,  0.0000,  0.0000,  0.0000,  0.0000,  0.0000,\n",
       "          0.0000,  0.0000],\n",
       "        [ 1.7321,  2.0000,  0.0000,  0.0000,  0.0000,  0.0000,  0.0000,  0.0000,\n",
       "          0.0000,  0.0000],\n",
       "        [ 2.2361,  3.8730,  3.0000,  0.0000,  0.0000,  0.0000,  0.0000,  0.0000,\n",
       "          0.0000,  0.0000],\n",
       "        [ 2.6458,  4.5826,  5.9161,  4.0000,  0.0000,  0.0000,  0.0000,  0.0000,\n",
       "          0.0000,  0.0000],\n",
       "        [ 3.0000,  5.1962,  6.7082,  7.9373,  5.0000,  0.0000,  0.0000,  0.0000,\n",
       "          0.0000,  0.0000],\n",
       "        [ 3.3166,  5.7446,  7.4162,  8.7750,  9.9499,  6.0000,  0.0000,  0.0000,\n",
       "          0.0000,  0.0000],\n",
       "        [ 3.6056,  6.2450,  8.0623,  9.5394, 10.8167, 11.9583,  7.0000,  0.0000,\n",
       "          0.0000,  0.0000],\n",
       "        [ 3.8730,  6.7082,  8.6603, 10.2470, 11.6189, 12.8452, 13.9642,  8.0000,\n",
       "          0.0000,  0.0000],\n",
       "        [ 4.1231,  7.1414,  9.2195, 10.9087, 12.3693, 13.6748, 14.8661, 15.9687,\n",
       "          9.0000,  0.0000],\n",
       "        [ 4.3589,  7.5498,  9.7468, 11.5326, 13.0767, 14.4568, 15.7162, 16.8819,\n",
       "         17.9722, 10.0000]])"
      ]
     },
     "execution_count": 293,
     "metadata": {},
     "output_type": "execute_result"
    }
   ],
   "source": [
    "test"
   ]
  },
  {
   "cell_type": "code",
   "execution_count": null,
   "id": "e4606f8b-22a8-479b-abbf-0ef619b4e716",
   "metadata": {},
   "outputs": [],
   "source": []
  }
 ],
 "metadata": {
  "kernelspec": {
   "display_name": "Python 3 (ipykernel)",
   "language": "python",
   "name": "python3"
  },
  "language_info": {
   "codemirror_mode": {
    "name": "ipython",
    "version": 3
   },
   "file_extension": ".py",
   "mimetype": "text/x-python",
   "name": "python",
   "nbconvert_exporter": "python",
   "pygments_lexer": "ipython3",
   "version": "3.11.8"
  }
 },
 "nbformat": 4,
 "nbformat_minor": 5
}
