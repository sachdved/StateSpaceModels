{
 "cells": [
  {
   "cell_type": "code",
   "execution_count": 142,
   "id": "baaff332-22f6-4ed0-a94f-9d19b068770b",
   "metadata": {},
   "outputs": [],
   "source": [
    "import torch\n",
    "import numpy as np\n",
    "import scipy as sp\n",
    "import matplotlib.pyplot as plt\n",
    "import math"
   ]
  },
  {
   "cell_type": "code",
   "execution_count": 143,
   "id": "2ed1d768-e46f-4911-9e30-9d6091aded87",
   "metadata": {},
   "outputs": [],
   "source": [
    "def random_SSM(N : int) -> (torch.Tensor, torch.Tensor, torch.Tensor, torch.Tensor):\n",
    "    A = torch.autograd.Variable(torch.rand(size=(N,N)), requires_grad = True)\n",
    "    B = torch.autograd.Variable(torch.rand(size=(N,1)), requires_grad = True)\n",
    "    C = torch.autograd.Variable(torch.rand(size=(1,N)), requires_grad = True)\n",
    "    D = torch.autograd.Variable(torch.rand(size=(1,1)), requires_grad = True)\n",
    "    return A, B, C, D"
   ]
  },
  {
   "cell_type": "code",
   "execution_count": 144,
   "id": "c913ebed-b17c-4993-a4c4-be749db92f9c",
   "metadata": {},
   "outputs": [],
   "source": [
    "A, B, C, D = random_SSM(10)\n"
   ]
  },
  {
   "cell_type": "code",
   "execution_count": 160,
   "id": "34e5a72b-292c-43a7-bda5-6edbf96b7ddd",
   "metadata": {},
   "outputs": [],
   "source": [
    "D = torch.zeros((1,1))"
   ]
  },
  {
   "cell_type": "code",
   "execution_count": 161,
   "id": "f60b605e-0171-4aec-acd1-793ea3007d72",
   "metadata": {},
   "outputs": [],
   "source": [
    "delta = torch.tensor(0.01)"
   ]
  },
  {
   "cell_type": "code",
   "execution_count": 162,
   "id": "53248f90-d07b-45a7-b111-d45f5b2f6f45",
   "metadata": {},
   "outputs": [],
   "source": [
    "def discretize(\n",
    "    A : torch.Tensor, B : torch.Tensor, C : torch.Tensor, D : torch.Tensor, delta : torch.Tensor\n",
    ") -> (torch.Tensor, torch.Tensor, torch.Tensor, torch.Tensor):\n",
    "    \"\"\"Discretizes SSM using bilinear model\n",
    "\n",
    "    parameters:\n",
    "        A: (NxN) transition matrix in latent\n",
    "        B: (Nx1) projection matrix to latent\n",
    "        C: (1xN) projection matrix from latent to output\n",
    "        D: (1x1) skip connection from input to output\n",
    "        delta: time step, ensure sufficient smallness\n",
    "    \"\"\"\n",
    "    Cbar = C\n",
    "    Dbar = D\n",
    "    N = A.shape[0]\n",
    "    Bl = torch.linalg.inv(torch.eye(N) - delta / 2 * A)\n",
    "    Abar = Bl@(torch.eye(N) + delta/2 * A)\n",
    "    Bbar = Bl@(delta*B)\n",
    "    return Abar, Bbar, Cbar, Dbar"
   ]
  },
  {
   "cell_type": "code",
   "execution_count": 163,
   "id": "3305b7a1-5b3e-4abc-8d77-f34f8a399075",
   "metadata": {},
   "outputs": [],
   "source": [
    "Abar, Bbar, Cbar, Dbar = discretize(A, B, C, D, delta)"
   ]
  },
  {
   "cell_type": "code",
   "execution_count": 164,
   "id": "d72635d9-919f-4482-a03c-c6a364503b9f",
   "metadata": {},
   "outputs": [],
   "source": [
    "T = 100\n",
    "num_steps = int(T/delta)\n",
    "\n",
    "u = torch.cos(torch.arange(num_steps))"
   ]
  },
  {
   "cell_type": "code",
   "execution_count": 204,
   "id": "c3134525-8e1e-40be-b02b-346dcbb7bb19",
   "metadata": {},
   "outputs": [],
   "source": [
    "def scan_SSM(\n",
    "    Ab : torch.Tensor, Bb : torch.Tensor, Cb : torch.Tensor, Db : torch.Tensor,  u : torch.Tensor, x0 : torch.Tensor\n",
    ") -> torch.Tensor:\n",
    "    \"\"\"\n",
    "    computes steps of the SSM going forward.\n",
    "\n",
    "    parameters:\n",
    "        Ab : (NxN) transition matrix in discrete space of latent to latent\n",
    "        Bb : (Nx1) projcetion matrix from input to latent space\n",
    "        Cb : (1xN) projection matrix from latent to output\n",
    "        Db : (1x1) skip connection input to output\n",
    "        u  : (L,)  trajectory we are trying to track\n",
    "        x0 : (Nx1) initial condition of latent\n",
    "    \"\"\"\n",
    "    x0 = torch.zeros((10,1))\n",
    "    x = torch.zeros((Ab.shape[0], len(u[:100])))\n",
    "    y = torch.zeros_like(u[:100])\n",
    "    for i in range(u[:100].shape[0]):\n",
    "        x[:,i] = (Ab@x0 + Bb*u[i]).squeeze()\n",
    "        y[i] = (Cb@x[:,i]).squeeze()\n",
    "        x0 = x[:,i].unsqueeze(-1)\n",
    "    return x, y"
   ]
  },
  {
   "cell_type": "code",
   "execution_count": 205,
   "id": "397018e5-477a-4464-875d-00e7156dcc0a",
   "metadata": {},
   "outputs": [],
   "source": [
    "def K_conv(Ab : torch.Tensor, Bb : torch.Tensor, Cb : torch.Tensor, L : int) -> torch.Tensor:\n",
    "    \"\"\"\n",
    "    computes convolution window given L time steps using equation K_t = Cb @ (Ab^t) @ Bb. \n",
    "    Needs to be flipped for correct causal convolution, but can be used as is in fft mode\n",
    "\n",
    "    parameters:\n",
    "        Ab : transition matrix\n",
    "        Bb : projection matrix from input to latent\n",
    "        Cb : projection matrix from latent to input\n",
    "        Db : skip connection\n",
    "        L  : length over which we want convolutional window\n",
    "    \"\"\"\n",
    "    return torch.stack([(Cb @ torch.matrix_power(Ab, l) @ Bb).squeeze() for l in range(L)])"
   ]
  },
  {
   "cell_type": "code",
   "execution_count": 206,
   "id": "e4daebfc-d2d8-41b9-8599-4ddd690b3485",
   "metadata": {},
   "outputs": [],
   "source": [
    "def causal_conv(u : torch.Tensor, K : torch.Tensor, notfft : bool = False) -> torch.Tensor:\n",
    "    \"\"\"\n",
    "    computes 1-d causal convolution either using standard method or fft transform.\n",
    "\n",
    "    parameters:\n",
    "        u : trajectory to convolve\n",
    "        K : convolutional filter\n",
    "        notfft: boolean, for whether or not we use fft mode or not.\n",
    "    \"\"\"\n",
    "    assert len(u.shape)==1\n",
    "    assert K.shape==u.shape\n",
    "    \n",
    "    L = u.shape[0]\n",
    "    powers_of_2 = 2**int(math.ceil(math.log2(2*L)))\n",
    "\n",
    "    if notfft:\n",
    "        padded_u = torch.nn.functional.pad(u, (L-1,L-1))\n",
    "        convolve = torch.zeros_like(u)\n",
    "        for i in range(L):\n",
    "            convolve[i] = torch.sum(padded_u[i:i+L]*K.flip(dims=[0]))\n",
    "        return convolve\n",
    "    else:\n",
    "\n",
    "        K_pad = torch.nn.functional.pad(K, (0, L))\n",
    "        u_pad = torch.nn.functional.pad(u, (0, L))\n",
    "        \n",
    "        K_f, u_f = torch.fft.rfft(K_pad, n = powers_of_2), torch.fft.rfft(u_pad, n = powers_of_2)\n",
    "        return torch.fft.irfft(K_f * u_f, n = powers_of_2)[:L]"
   ]
  },
  {
   "cell_type": "code",
   "execution_count": 207,
   "id": "f0d3efcc-e3f7-43ca-bda3-7601774fd727",
   "metadata": {},
   "outputs": [],
   "source": [
    "K = K_conv(Abar, Bbar, Cbar, 100)"
   ]
  },
  {
   "cell_type": "code",
   "execution_count": 208,
   "id": "6f74b795-1716-45f9-8c7e-3be76d1a88e2",
   "metadata": {},
   "outputs": [],
   "source": [
    "conv_fft = causal_conv(u[:100], K)\n",
    "conv_notfft = causal_conv(u[:100],K , notfft=True)"
   ]
  },
  {
   "cell_type": "code",
   "execution_count": 212,
   "id": "6f4895f0-52c5-444c-9837-f90d033de1ca",
   "metadata": {},
   "outputs": [],
   "source": [
    "x, y = scan_SSM(Abar, Bbar, Cbar, Dbar, u[:100], torch.zeros((10,1)))"
   ]
  },
  {
   "cell_type": "code",
   "execution_count": 224,
   "id": "baa14979-dfe1-41e2-b0ae-9834511822a9",
   "metadata": {},
   "outputs": [
    {
     "name": "stdout",
     "output_type": "stream",
     "text": [
      "tensor(True)\n",
      "tensor(True)\n"
     ]
    }
   ],
   "source": [
    "print((abs(conv_fft - conv_notfft)<1e-5).all())\n",
    "print((abs(conv_fft - y)<1e-5).all())"
   ]
  },
  {
   "cell_type": "code",
   "execution_count": 241,
   "id": "d10407bf-c7b7-41c6-84e8-f843de2525b7",
   "metadata": {},
   "outputs": [
    {
     "data": {
      "text/plain": [
       "tensor([0.8434])"
      ]
     },
     "execution_count": 241,
     "metadata": {},
     "output_type": "execute_result"
    }
   ],
   "source": [
    "torch.rand(1)"
   ]
  },
  {
   "cell_type": "code",
   "execution_count": 242,
   "id": "ad8c56ba-ea9b-4ed5-bb0a-82539bd529b0",
   "metadata": {},
   "outputs": [],
   "source": [
    "def log_step_initializer(dt_min = 0.001, dt_max = 0.1):\n",
    "    \"\"\"\n",
    "    initial guess for dt, from random number generator. to be learned.\n",
    "\n",
    "    parameters:\n",
    "        dt_min\n",
    "        dt_max\n",
    "    \"\"\"\n",
    "    return torch.autograd.Variable(torch.rand(1) * (torch.log(dt_max) - torch.log(dt_min)) + torch.log(dt_min), requires_grad = True)"
   ]
  },
  {
   "cell_type": "code",
   "execution_count": 249,
   "id": "47782377-fad9-4f35-a7c5-4c12a7ffbdf7",
   "metadata": {},
   "outputs": [],
   "source": [
    "class SSMLayer(torch.nn.Module):\n",
    "    \"\"\"\n",
    "    Simple layer that does SSMing. Assumes single input, single output. \n",
    "    Could be made multi-dimensional either by stacking and decorrelating,\n",
    "    or by playing with the code to allow for multi input, multioutput. Should be relatively easy, \n",
    "    but need to carefully think a little about convolution of multi dim inputs.\n",
    "    \"\"\"\n",
    "    def __init__(\n",
    "        self,\n",
    "        latent_dim,\n",
    "        L_max,\n",
    "        dt_min = 0.001,\n",
    "        dt_max = 0.1,\n",
    "    ):\n",
    "        super.__init__()\n",
    "        self.latent_dim = latent_dim\n",
    "        self.A, self.B, self.C, self.D = self.random_SSM(latent_dim)\n",
    "        self.dt = self.log_step_initializer(dt_min, dt_max)\n",
    "\n",
    "    def random_SSM(\n",
    "        self, \n",
    "        N : int\n",
    "    ) -> (torch.Tensor, torch.Tensor, torch.Tensor, torch.Tensor):\n",
    "        \"\"\"\n",
    "        initializing SSM parameters given latent dim\n",
    "        \n",
    "        parameters:\n",
    "            N : size of latent dimension\n",
    "        \"\"\"\n",
    "        A = torch.autograd.Variable(torch.rand(size=(N,N)), requires_grad = True)\n",
    "        B = torch.autograd.Variable(torch.rand(size=(N,1)), requires_grad = True)\n",
    "        C = torch.autograd.Variable(torch.rand(size=(1,N)), requires_grad = True)\n",
    "        D = torch.autograd.Variable(torch.rand(size=(1,1)), requires_grad = True)\n",
    "        return A, B, C, D\n",
    "\n",
    "    def log_step_initializer(dt_min = 0.001, dt_max = 0.1):\n",
    "        \"\"\"\n",
    "        initial guess for dt, from random number generator. to be learned.\n",
    "    \n",
    "        parameters:\n",
    "            dt_min\n",
    "            dt_max\n",
    "        \"\"\"\n",
    "        return torch.autograd.Variable(torch.rand(1) * (torch.log(dt_max) - torch.log(dt_min)) + torch.log(dt_min), requires_grad = True)\n",
    "\n",
    "    def discretize(\n",
    "        self, A : torch.Tensor, B : torch.Tensor, C : torch.Tensor, D : torch.Tensor, delta : torch.Tensor\n",
    "    ) -> (torch.Tensor, torch.Tensor, torch.Tensor, torch.Tensor):\n",
    "        \"\"\"Discretizes SSM using bilinear model\n",
    "    \n",
    "        parameters:\n",
    "            A: (NxN) transition matrix in latent\n",
    "            B: (Nx1) projection matrix to latent\n",
    "            C: (1xN) projection matrix from latent to output\n",
    "            D: (1x1) skip connection from input to output\n",
    "            delta: time step, ensure sufficient smallness\n",
    "        \"\"\"\n",
    "        Cbar = C\n",
    "        Dbar = D\n",
    "        N = A.shape[0]\n",
    "        Bl = torch.linalg.inv(torch.eye(N) - delta / 2 * A)\n",
    "        Abar = Bl@(torch.eye(N) + delta/2 * A)\n",
    "        Bbar = Bl@(delta*B)\n",
    "        return Abar, Bbar, Cbar, Dbar\n",
    "\n",
    "    def scan_SSM(\n",
    "        self, Ab : torch.Tensor, Bb : torch.Tensor, Cb : torch.Tensor, Db : torch.Tensor,  u : torch.Tensor, x0 : torch.Tensor\n",
    "    ) -> torch.Tensor:\n",
    "        \"\"\"\n",
    "        computes steps of the SSM going forward.\n",
    "    \n",
    "        parameters:\n",
    "            Ab : (NxN) transition matrix in discrete space of latent to latent\n",
    "            Bb : (Nx1) projcetion matrix from input to latent space\n",
    "            Cb : (1xN) projection matrix from latent to output\n",
    "            Db : (1x1) skip connection input to output\n",
    "            u  : (L,)  trajectory we are trying to track\n",
    "            x0 : (Nx1) initial condition of latent\n",
    "        \"\"\"\n",
    "        x0 = torch.zeros((10,1))\n",
    "        x = torch.zeros((Ab.shape[0], len(u[:100])))\n",
    "        y = torch.zeros_like(u[:100])\n",
    "        for i in range(u[:100].shape[0]):\n",
    "            x[:,i] = (Ab@x0 + Bb*u[i]).squeeze()\n",
    "            y[i] = (Cb@x[:,i]).squeeze()\n",
    "            x0 = x[:,i].unsqueeze(-1)\n",
    "        return x, y\n",
    "        \n",
    "    def K_conv(self, Ab : torch.Tensor, Bb : torch.Tensor, Cb : torch.Tensor, L : int) -> torch.Tensor:\n",
    "        \"\"\"\n",
    "        computes convolution window given L time steps using equation K_t = Cb @ (Ab^t) @ Bb. \n",
    "        Needs to be flipped for correct causal convolution, but can be used as is in fft mode\n",
    "    \n",
    "        parameters:\n",
    "            Ab : transition matrix\n",
    "            Bb : projection matrix from input to latent\n",
    "            Cb : projection matrix from latent to input\n",
    "            Db : skip connection\n",
    "            L  : length over which we want convolutional window\n",
    "        \"\"\"\n",
    "        return torch.stack([(Cb @ torch.matrix_power(Ab, l) @ Bb).squeeze() for l in range(L)])\n",
    "\n",
    "    def causal_conv(u : torch.Tensor, K : torch.Tensor, notfft : bool = False) -> torch.Tensor:\n",
    "        \"\"\"\n",
    "        computes 1-d causal convolution either using standard method or fft transform.\n",
    "    \n",
    "        parameters:\n",
    "            u : trajectory to convolve\n",
    "            K : convolutional filter\n",
    "            notfft: boolean, for whether or not we use fft mode or not.\n",
    "        \"\"\"\n",
    "        assert K.shape==u.shape\n",
    "        \n",
    "        L = u.shape[0]\n",
    "        powers_of_2 = 2**int(math.ceil(math.log2(2*L)))\n",
    "    \n",
    "        if notfft:\n",
    "            padded_u = torch.nn.functional.pad(u, (L-1,L-1))\n",
    "            convolve = torch.zeros_like(u)\n",
    "            for i in range(L):\n",
    "                convolve[i] = torch.sum(padded_u[i:i+L]*K.flip(dims=[0]))\n",
    "            return convolve\n",
    "        else:\n",
    "    \n",
    "            K_pad = torch.nn.functional.pad(K, (0, L))\n",
    "            u_pad = torch.nn.functional.pad(u, (0, L))\n",
    "            \n",
    "            K_f, u_f = torch.fft.rfft(K_pad, n = powers_of_2), torch.fft.rfft(u_pad, n = powers_of_2)\n",
    "            return torch.fft.irfft(K_f * u_f, n = powers_of_2)[:L]\n",
    "\n",
    "    def forward(\n",
    "        self,\n",
    "        u : torch.Tensor,\n",
    "        x0 : torch.Tensor = torch.zeros((1,1)),\n",
    "        mode : bool | str = False\n",
    "    ) -> torch.Tensor:\n",
    "        \"\"\"\n",
    "        forward pass of model\n",
    "\n",
    "        Parameters:\n",
    "            u  : input time series\n",
    "            x0 : initial condition, only used in recurrent mode\n",
    "            mode: recurrent mode (\"recurrent\"), or convolution mode (True : direct convolution, False : fourier transform)\n",
    "        \"\"\"\n",
    "        if mode == \"recurrent\":\n",
    "            return self.scan_SSM(self.Abar, self.Bbar, self.Cbar, u, x0)\n",
    "        else:\n",
    "            K = self.K_conv(self.Abar, self.Bbar, self.Cbar, u.shape[0])\n",
    "            return self.causal_conv(u, K, mode)\n",
    "        "
   ]
  },
  {
   "cell_type": "code",
   "execution_count": 267,
   "id": "5306197b-fa32-44f1-a7b3-6a2c61c0675d",
   "metadata": {},
   "outputs": [
    {
     "data": {
      "text/plain": [
       "tensor([[ 0.5895,  0.7585,  1.1433, -0.6638, -1.3767, -0.9017, -2.1226,  1.1415,\n",
       "         -1.5913,  0.6842,  0.0000,  0.0000,  0.0000,  0.0000,  0.0000,  0.0000,\n",
       "          0.0000,  0.0000,  0.0000],\n",
       "        [ 1.3093, -0.8313, -0.1895,  1.3814, -0.4246, -1.0384,  0.2107,  0.3426,\n",
       "         -0.0419, -0.6266,  0.0000,  0.0000,  0.0000,  0.0000,  0.0000,  0.0000,\n",
       "          0.0000,  0.0000,  0.0000],\n",
       "        [ 0.0314, -1.3818,  0.5915,  1.6040, -1.2564, -0.4654,  1.1021, -0.1911,\n",
       "         -1.1734,  0.7897,  0.0000,  0.0000,  0.0000,  0.0000,  0.0000,  0.0000,\n",
       "          0.0000,  0.0000,  0.0000],\n",
       "        [-1.6000, -2.3804,  1.3236, -0.0073, -0.2688, -0.6920, -1.2772, -1.5552,\n",
       "         -0.3621,  0.3047,  0.0000,  0.0000,  0.0000,  0.0000,  0.0000,  0.0000,\n",
       "          0.0000,  0.0000,  0.0000],\n",
       "        [ 0.5141,  1.0244,  0.5839,  1.1443, -0.0976, -0.7905,  0.5502,  0.4254,\n",
       "          1.3558, -1.0811,  0.0000,  0.0000,  0.0000,  0.0000,  0.0000,  0.0000,\n",
       "          0.0000,  0.0000,  0.0000],\n",
       "        [ 0.4783,  1.7231, -1.2242, -2.2677, -1.5774, -0.4186, -0.7735,  1.1491,\n",
       "         -1.1393, -0.8107,  0.0000,  0.0000,  0.0000,  0.0000,  0.0000,  0.0000,\n",
       "          0.0000,  0.0000,  0.0000],\n",
       "        [-1.3470, -0.7011, -0.7459, -1.4906, -0.0937,  0.7299, -0.1635, -1.2928,\n",
       "          0.8300,  1.4032,  0.0000,  0.0000,  0.0000,  0.0000,  0.0000,  0.0000,\n",
       "          0.0000,  0.0000,  0.0000],\n",
       "        [ 0.1294,  1.8355, -1.4944, -1.2369, -1.6044,  0.9326, -2.7053,  0.0183,\n",
       "          1.7423, -0.1234,  0.0000,  0.0000,  0.0000,  0.0000,  0.0000,  0.0000,\n",
       "          0.0000,  0.0000,  0.0000],\n",
       "        [ 1.1591, -0.7707, -0.2553,  0.9740, -1.1268, -0.8316, -0.2156,  0.6388,\n",
       "          0.4683,  0.6530,  0.0000,  0.0000,  0.0000,  0.0000,  0.0000,  0.0000,\n",
       "          0.0000,  0.0000,  0.0000],\n",
       "        [ 1.2601, -1.2323,  0.1156, -0.3572,  0.3602,  0.8452,  0.1020,  0.2420,\n",
       "          0.8632, -0.7469,  0.0000,  0.0000,  0.0000,  0.0000,  0.0000,  0.0000,\n",
       "          0.0000,  0.0000,  0.0000]])"
      ]
     },
     "execution_count": 267,
     "metadata": {},
     "output_type": "execute_result"
    }
   ],
   "source": []
  },
  {
   "cell_type": "code",
   "execution_count": null,
   "id": "8b000878-1875-48ee-92e9-6f025776ac51",
   "metadata": {},
   "outputs": [],
   "source": []
  }
 ],
 "metadata": {
  "kernelspec": {
   "display_name": "Python 3 (ipykernel)",
   "language": "python",
   "name": "python3"
  },
  "language_info": {
   "codemirror_mode": {
    "name": "ipython",
    "version": 3
   },
   "file_extension": ".py",
   "mimetype": "text/x-python",
   "name": "python",
   "nbconvert_exporter": "python",
   "pygments_lexer": "ipython3",
   "version": "3.11.8"
  }
 },
 "nbformat": 4,
 "nbformat_minor": 5
}
