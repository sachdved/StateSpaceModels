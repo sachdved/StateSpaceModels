{
 "cells": [
  {
   "cell_type": "code",
   "execution_count": 1,
   "id": "94939fc5-4cf8-4a8c-8fa9-4fd3d20b83a0",
   "metadata": {},
   "outputs": [],
   "source": [
    "import torch"
   ]
  },
  {
   "cell_type": "code",
   "execution_count": 9,
   "id": "3630a7dc-d8c2-489f-a02f-24919a464585",
   "metadata": {},
   "outputs": [],
   "source": [
    "def test(x : torch.Tensor):\n",
    "    return x"
   ]
  },
  {
   "cell_type": "code",
   "execution_count": 11,
   "id": "ff34ea43-a0f0-4179-beb2-4b336ccd8a2e",
   "metadata": {},
   "outputs": [
    {
     "data": {
      "text/plain": [
       "10"
      ]
     },
     "execution_count": 11,
     "metadata": {},
     "output_type": "execute_result"
    }
   ],
   "source": [
    "test(10)"
   ]
  },
  {
   "cell_type": "code",
   "execution_count": null,
   "id": "e2380288-ce55-4d8c-8061-25b38da44e41",
   "metadata": {},
   "outputs": [],
   "source": [
    "class SSM(torch.nn.Module):\n",
    "    \"\"\"\n",
    "    Creating a basic state-space model, using the bilinearization discretization of the parameters\n",
    "\n",
    "    parameters:\n",
    "        N: dimension, int\n",
    "    \"\"\"\n",
    "    def __init__(self, N : int, dt : float):\n",
    "        super().__init__()\n",
    "        N = self.N\n",
    "        self.dt = dt\n",
    "        \n",
    "        A = - 0.5 + 1j * torch.pi * torch.arange(N//2)\n",
    "        self.A = torch.autograd.Variable(A, requires_grad=True)\n",
    "\n",
    "        B = torch.ones(N//2) + 0j\n",
    "        self.B = torch.autograd.Variable(B, requires_grad=True)\n",
    "\n",
    "        C = torch.randn(N//2) + 1j*torch.randn(N//2)\n",
    "        self.C = torch.autograd.Variable(C, requires_grad=True)\n",
    "\n",
    "    def kernel(self, L : int):\n",
    "        self.dA, self.dB = (1 + self.dt * self.A/2) / (1 - self.dt * self.A/2), self.dt * self.B / (1 - self.dt * self.A/2)\n",
    "        K_bar = torch.real(\n",
    "            torch.matmul(\n",
    "                self.C * self.dB,\n",
    "                self.dA[:, None] ** torch.arange(L)\n",
    "            )\n",
    "        )\n",
    "        return K_bar\n",
    "\n",
    "    def forward(self, u : torch.Tensor):\n",
    "        L = u.shape[-1]\n",
    "        K = self.kernel(L)\n",
    "\n",
    "        K_f, u_f = torch.fft.fft(K, n = 2*L), torch.fft.fft(u, n = 2*L)\n",
    "        return torch.fft.ifft(K_f * u_f, n = 2*L)[..., :L]\n"
   ]
  }
 ],
 "metadata": {
  "kernelspec": {
   "display_name": "Python 3 (ipykernel)",
   "language": "python",
   "name": "python3"
  },
  "language_info": {
   "codemirror_mode": {
    "name": "ipython",
    "version": 3
   },
   "file_extension": ".py",
   "mimetype": "text/x-python",
   "name": "python",
   "nbconvert_exporter": "python",
   "pygments_lexer": "ipython3",
   "version": "3.11.8"
  }
 },
 "nbformat": 4,
 "nbformat_minor": 5
}
