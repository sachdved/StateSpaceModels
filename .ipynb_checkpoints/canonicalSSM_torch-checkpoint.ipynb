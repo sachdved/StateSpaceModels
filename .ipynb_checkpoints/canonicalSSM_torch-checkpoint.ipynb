{
 "cells": [
  {
   "cell_type": "code",
   "execution_count": 1,
   "id": "baaff332-22f6-4ed0-a94f-9d19b068770b",
   "metadata": {},
   "outputs": [],
   "source": [
    "import torch\n",
    "import numpy as np\n",
    "import scipy as sp\n",
    "import matplotlib.pyplot as plt"
   ]
  },
  {
   "cell_type": "code",
   "execution_count": 2,
   "id": "2ed1d768-e46f-4911-9e30-9d6091aded87",
   "metadata": {},
   "outputs": [],
   "source": [
    "def random_SSM(N : int) -> (torch.Tensor, torch.Tensor, torch.Tensor, torch.Tensor):\n",
    "    A = torch.autograd.Variable(torch.rand(size=(N,N)), requires_grad = True)\n",
    "    B = torch.autograd.Variable(torch.rand(size=(N,N)), requires_grad = True)\n",
    "    C = torch.autograd.Variable(torch.rand(size=(N,N)), requires_grad = True)\n",
    "    D = torch.autograd.Variable(torch.rand(size=(N,N)), requires_grad = True)\n",
    "    return A, B, C, D"
   ]
  },
  {
   "cell_type": "code",
   "execution_count": 5,
   "id": "c913ebed-b17c-4993-a4c4-be749db92f9c",
   "metadata": {},
   "outputs": [],
   "source": [
    "A, B, C, D = random_SSM(10)"
   ]
  },
  {
   "cell_type": "code",
   "execution_count": 9,
   "id": "e3788625-c2d3-4cdc-96c0-9c0663b45c8d",
   "metadata": {},
   "outputs": [
    {
     "data": {
      "text/plain": [
       "False"
      ]
     },
     "execution_count": 9,
     "metadata": {},
     "output_type": "execute_result"
    }
   ],
   "source": [
    "isinstance(1, torch.autograd.Variable)"
   ]
  },
  {
   "cell_type": "code",
   "execution_count": 14,
   "id": "70007e3f-e2f5-4e2f-bd8d-8b67f5ffb647",
   "metadata": {},
   "outputs": [],
   "source": [
    "def discretize(\n",
    "    A : torch.Tensor, B : torch.Tensor, C : torch.Tensor, D : torch.Tensor, delta : torch.autograd.Variable\n",
    ") -> (torch.Tensor, torch.Tensor, torch.Tensor, torch.Tensor):\n",
    "    N = A.shape[0]\n",
    "    left_term = torch.linalg.inv((torch.eye(N) - delta/2 * A))\n",
    "    \n",
    "    Abar = torch.matmul( left_term, torch.eye(N) + delta/2 * A)\n",
    "    Bbar = torch.matmul( left_term, delta*B)\n",
    "    Cbar = C\n",
    "    Dbar = D\n",
    "    return Abar, Bbar, Cbar, Dbar"
   ]
  },
  {
   "cell_type": "code",
   "execution_count": null,
   "id": "f60b605e-0171-4aec-acd1-793ea3007d72",
   "metadata": {},
   "outputs": [],
   "source": [
    "delta = torch.tensor(0.01)"
   ]
  },
  {
   "cell_type": "code",
   "execution_count": 15,
   "id": "3305b7a1-5b3e-4abc-8d77-f34f8a399075",
   "metadata": {},
   "outputs": [],
   "source": [
    "Abar, Bbar, Cbar, Dbar = discretize(A, B, C, D, torch.tensor(0.01))"
   ]
  },
  {
   "cell_type": "code",
   "execution_count": 16,
   "id": "d72635d9-919f-4482-a03c-c6a364503b9f",
   "metadata": {},
   "outputs": [
    {
     "data": {
      "text/plain": [
       "tensor([[1.0031e+00, 1.4986e-03, 4.7446e-03, 4.1255e-03, 6.6480e-03, 1.0081e-02,\n",
       "         9.5084e-03, 7.2345e-03, 3.3003e-03, 4.6171e-03],\n",
       "        [3.6939e-03, 1.0058e+00, 3.0180e-03, 3.7047e-03, 8.4269e-03, 7.2123e-03,\n",
       "         7.6107e-03, 1.0022e-02, 3.4044e-03, 1.0046e-02],\n",
       "        [4.0459e-04, 9.4332e-03, 1.0059e+00, 5.4953e-03, 4.1098e-04, 6.8890e-03,\n",
       "         2.2657e-03, 8.2429e-03, 3.3312e-03, 6.4220e-03],\n",
       "        [9.2961e-04, 7.7174e-04, 4.9840e-03, 1.0092e+00, 9.8287e-03, 2.9267e-03,\n",
       "         9.2874e-04, 3.0922e-03, 2.9632e-04, 9.0497e-04],\n",
       "        [7.0828e-03, 1.0103e-02, 8.3615e-03, 5.0863e-03, 1.0030e+00, 9.2722e-03,\n",
       "         4.5436e-04, 1.0074e-02, 4.3528e-03, 7.1049e-03],\n",
       "        [1.0928e-03, 9.4566e-03, 3.5600e-03, 6.5290e-03, 2.5428e-03, 1.0063e+00,\n",
       "         2.5832e-04, 8.0457e-03, 7.0915e-03, 5.7069e-03],\n",
       "        [8.7757e-03, 2.1028e-03, 2.5441e-03, 3.9402e-03, 7.6545e-03, 9.0197e-03,\n",
       "         1.0026e+00, 5.0560e-03, 7.0126e-03, 8.4101e-04],\n",
       "        [7.3033e-03, 2.0832e-04, 5.0853e-03, 3.1696e-03, 9.6291e-03, 6.9151e-03,\n",
       "         2.8936e-03, 1.0012e+00, 5.5877e-03, 1.1896e-03],\n",
       "        [8.1637e-04, 3.3792e-03, 9.7293e-03, 6.6599e-03, 3.5348e-04, 6.1276e-03,\n",
       "         2.8167e-03, 2.8671e-03, 1.0089e+00, 3.5008e-03],\n",
       "        [3.2807e-03, 3.9940e-03, 9.8082e-03, 8.4245e-03, 2.1953e-03, 1.8840e-03,\n",
       "         3.2028e-03, 8.2145e-03, 9.9441e-03, 1.0070e+00]],\n",
       "       grad_fn=<MmBackward0>)"
      ]
     },
     "execution_count": 16,
     "metadata": {},
     "output_type": "execute_result"
    }
   ],
   "source": [
    "Abar"
   ]
  },
  {
   "cell_type": "code",
   "execution_count": null,
   "id": "95615b13-f502-4315-8556-1584f1509882",
   "metadata": {},
   "outputs": [],
   "source": []
  }
 ],
 "metadata": {
  "kernelspec": {
   "display_name": "Python 3 (ipykernel)",
   "language": "python",
   "name": "python3"
  },
  "language_info": {
   "codemirror_mode": {
    "name": "ipython",
    "version": 3
   },
   "file_extension": ".py",
   "mimetype": "text/x-python",
   "name": "python",
   "nbconvert_exporter": "python",
   "pygments_lexer": "ipython3",
   "version": "3.11.8"
  }
 },
 "nbformat": 4,
 "nbformat_minor": 5
}
