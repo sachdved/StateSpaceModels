{
 "cells": [
  {
   "cell_type": "code",
   "execution_count": 1,
   "id": "e9f407fa-877a-4b57-8e38-5a471a5a129f",
   "metadata": {},
   "outputs": [],
   "source": [
    "import jax\n",
    "from functools import partial\n",
    "import jax.numpy as np\n",
    "import jax.scipy as sp"
   ]
  },
  {
   "cell_type": "code",
   "execution_count": 2,
   "id": "af13f8d1-cb28-49be-9139-6445acb835e3",
   "metadata": {},
   "outputs": [],
   "source": [
    "rng_key = jax.random.PRNGKey(1)"
   ]
  },
  {
   "cell_type": "code",
   "execution_count": 30,
   "id": "d1fe2c1c-0cc5-4842-8c75-467fb3cc00a3",
   "metadata": {},
   "outputs": [
    {
     "data": {
      "text/plain": [
       "True"
      ]
     },
     "execution_count": 30,
     "metadata": {},
     "output_type": "execute_result"
    }
   ],
   "source": [
    "isinstance(rng_key, jax.Array)"
   ]
  },
  {
   "cell_type": "code",
   "execution_count": 13,
   "id": "ec293369-164d-434a-b530-1bb7ad3af687",
   "metadata": {},
   "outputs": [],
   "source": [
    "def random_SSM(rng : jax.Array, N : int) -> (jax.Array, jax.Array, jax.Array, jax.Array):\n",
    "    a_r, b_r, c_r, d_r = jax.random.split(rng, 4)\n",
    "    A = jax.random.uniform(a_r, (N,N))\n",
    "    B = jax.random.uniform(a_r, (N,N))\n",
    "    C = jax.random.uniform(a_r, (N,N))\n",
    "    D = jax.random.uniform(a_r, (N,N))\n",
    "    return A, B, C, D"
   ]
  },
  {
   "cell_type": "code",
   "execution_count": 14,
   "id": "476d5e37-9a3c-4289-aff1-c4dd91749d08",
   "metadata": {},
   "outputs": [],
   "source": [
    "A, B, C, D = random_SSM(rng_key, 10)"
   ]
  },
  {
   "cell_type": "code",
   "execution_count": 25,
   "id": "b01d718d-1a2f-4065-8bf5-e29c66e3327a",
   "metadata": {},
   "outputs": [
    {
     "data": {
      "text/plain": [
       "Array(0.01, dtype=float32, weak_type=True)"
      ]
     },
     "execution_count": 25,
     "metadata": {},
     "output_type": "execute_result"
    }
   ],
   "source": [
    "np.array(0.01)"
   ]
  },
  {
   "cell_type": "code",
   "execution_count": 33,
   "id": "44560549-3d72-44f0-adda-3a6d310636ac",
   "metadata": {},
   "outputs": [],
   "source": [
    "def discretize(\n",
    "    A : jax.Array, B : jax.Array, C : jax.Array, D : jax.Array, delta : jax.Array\n",
    ") -> (jax.Array, jax.Array, jax.Array, jax.Array):\n",
    "    one = np.eye(A.shape[0])\n",
    "    left_term = np.linalg.inv(one - delta/2 * A)\n",
    "    Abar = left_term@(one + delta/2 * A)\n",
    "    Bbar = left_term@(delta*B)\n",
    "    Cbar = C\n",
    "    Dbar = D\n",
    "    return Abar, Bbar, Cbar, Dbar"
   ]
  },
  {
   "cell_type": "code",
   "execution_count": null,
   "id": "f4f43b2e-20cb-4ff2-bb88-a094260ebf87",
   "metadata": {},
   "outputs": [],
   "source": [
    "delta = np.array(0.01)"
   ]
  },
  {
   "cell_type": "code",
   "execution_count": 36,
   "id": "767e6e7d-5f6d-401c-bdfd-aba6600598a2",
   "metadata": {},
   "outputs": [],
   "source": [
    "Abar, Bbar, Cbar, Dbar = discretize(A, B, C, D, np.array(0.01))"
   ]
  },
  {
   "cell_type": "code",
   "execution_count": null,
   "id": "ad9673f8-89d9-4dc0-ba79-1fdf74378111",
   "metadata": {},
   "outputs": [],
   "source": []
  }
 ],
 "metadata": {
  "kernelspec": {
   "display_name": "Python 3 (ipykernel)",
   "language": "python",
   "name": "python3"
  },
  "language_info": {
   "codemirror_mode": {
    "name": "ipython",
    "version": 3
   },
   "file_extension": ".py",
   "mimetype": "text/x-python",
   "name": "python",
   "nbconvert_exporter": "python",
   "pygments_lexer": "ipython3",
   "version": "3.11.8"
  }
 },
 "nbformat": 4,
 "nbformat_minor": 5
}
